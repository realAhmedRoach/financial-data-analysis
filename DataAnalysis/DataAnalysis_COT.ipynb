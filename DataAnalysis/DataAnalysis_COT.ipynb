{
 "cells": [
  {
   "cell_type": "code",
   "execution_count": 1,
   "metadata": {},
   "outputs": [],
   "source": [
    "import quandl\n",
    "quandl.ApiConfig.api_key = 'yACpi8J95VWoPd_8qYmv'\n",
    "\n",
    "import matplotlib.pyplot as plt\n",
    "import seaborn as sns\n",
    "sns.set()"
   ]
  },
  {
   "cell_type": "code",
   "execution_count": 2,
   "metadata": {},
   "outputs": [],
   "source": [
    "%run ../Helpers.ipynb"
   ]
  },
  {
   "cell_type": "code",
   "execution_count": 3,
   "metadata": {},
   "outputs": [
    {
     "data": {
      "text/html": [
       "<div>\n",
       "<style>\n",
       "    .dataframe thead tr:only-child th {\n",
       "        text-align: right;\n",
       "    }\n",
       "\n",
       "    .dataframe thead th {\n",
       "        text-align: left;\n",
       "    }\n",
       "\n",
       "    .dataframe tbody tr th {\n",
       "        vertical-align: top;\n",
       "    }\n",
       "</style>\n",
       "<table border=\"1\" class=\"dataframe\">\n",
       "  <thead>\n",
       "    <tr style=\"text-align: right;\">\n",
       "      <th></th>\n",
       "      <th>Open Interest</th>\n",
       "      <th>Dealer Longs</th>\n",
       "      <th>Dealer Shorts</th>\n",
       "      <th>Asset Manager Longs</th>\n",
       "      <th>Asset Manager Shorts</th>\n",
       "      <th>Leveraged Funds Longs</th>\n",
       "      <th>Leveraged Funds Shorts</th>\n",
       "      <th>Other Reportable Longs</th>\n",
       "      <th>Other Reportable Shorts</th>\n",
       "      <th>Non Reportable Longs</th>\n",
       "      <th>Non Reportable Shorts</th>\n",
       "      <th>Net</th>\n",
       "      <th>Percent</th>\n",
       "    </tr>\n",
       "    <tr>\n",
       "      <th>Date</th>\n",
       "      <th></th>\n",
       "      <th></th>\n",
       "      <th></th>\n",
       "      <th></th>\n",
       "      <th></th>\n",
       "      <th></th>\n",
       "      <th></th>\n",
       "      <th></th>\n",
       "      <th></th>\n",
       "      <th></th>\n",
       "      <th></th>\n",
       "      <th></th>\n",
       "      <th></th>\n",
       "    </tr>\n",
       "  </thead>\n",
       "  <tbody>\n",
       "    <tr>\n",
       "      <th>2018-08-14</th>\n",
       "      <td>25890438.0</td>\n",
       "      <td>5833619.0</td>\n",
       "      <td>1356500.0</td>\n",
       "      <td>361813.0</td>\n",
       "      <td>2169314.0</td>\n",
       "      <td>814872.0</td>\n",
       "      <td>2597353.0</td>\n",
       "      <td>33821.0</td>\n",
       "      <td>260927.0</td>\n",
       "      <td>575308.0</td>\n",
       "      <td>1235337.0</td>\n",
       "      <td>-4477117.0</td>\n",
       "      <td>0.200326</td>\n",
       "    </tr>\n",
       "    <tr>\n",
       "      <th>2018-08-21</th>\n",
       "      <td>26037028.0</td>\n",
       "      <td>5618210.0</td>\n",
       "      <td>1464081.0</td>\n",
       "      <td>325041.0</td>\n",
       "      <td>2022231.0</td>\n",
       "      <td>899539.0</td>\n",
       "      <td>2479947.0</td>\n",
       "      <td>28290.0</td>\n",
       "      <td>215814.0</td>\n",
       "      <td>560456.0</td>\n",
       "      <td>1249465.0</td>\n",
       "      <td>-4154131.0</td>\n",
       "      <td>0.235367</td>\n",
       "    </tr>\n",
       "    <tr>\n",
       "      <th>2018-08-28</th>\n",
       "      <td>26608820.0</td>\n",
       "      <td>5603614.0</td>\n",
       "      <td>1510718.0</td>\n",
       "      <td>332569.0</td>\n",
       "      <td>2010484.0</td>\n",
       "      <td>1045027.0</td>\n",
       "      <td>2564445.0</td>\n",
       "      <td>26090.0</td>\n",
       "      <td>277700.0</td>\n",
       "      <td>602812.0</td>\n",
       "      <td>1246766.0</td>\n",
       "      <td>-4092897.0</td>\n",
       "      <td>0.250374</td>\n",
       "    </tr>\n",
       "    <tr>\n",
       "      <th>2018-09-04</th>\n",
       "      <td>26651954.0</td>\n",
       "      <td>5563486.0</td>\n",
       "      <td>1472568.0</td>\n",
       "      <td>386263.0</td>\n",
       "      <td>2264793.0</td>\n",
       "      <td>1092489.0</td>\n",
       "      <td>2378642.0</td>\n",
       "      <td>27243.0</td>\n",
       "      <td>265264.0</td>\n",
       "      <td>604663.0</td>\n",
       "      <td>1292875.0</td>\n",
       "      <td>-4090916.0</td>\n",
       "      <td>0.251221</td>\n",
       "    </tr>\n",
       "    <tr>\n",
       "      <th>2018-09-11</th>\n",
       "      <td>27904769.0</td>\n",
       "      <td>5680349.0</td>\n",
       "      <td>1472954.0</td>\n",
       "      <td>389342.0</td>\n",
       "      <td>2226915.0</td>\n",
       "      <td>1291678.0</td>\n",
       "      <td>2754837.0</td>\n",
       "      <td>66278.0</td>\n",
       "      <td>309228.0</td>\n",
       "      <td>637176.0</td>\n",
       "      <td>1300889.0</td>\n",
       "      <td>-4207395.0</td>\n",
       "      <td>0.258337</td>\n",
       "    </tr>\n",
       "  </tbody>\n",
       "</table>\n",
       "</div>"
      ],
      "text/plain": [
       "            Open Interest  Dealer Longs  Dealer Shorts  Asset Manager Longs  \\\n",
       "Date                                                                          \n",
       "2018-08-14     25890438.0     5833619.0      1356500.0             361813.0   \n",
       "2018-08-21     26037028.0     5618210.0      1464081.0             325041.0   \n",
       "2018-08-28     26608820.0     5603614.0      1510718.0             332569.0   \n",
       "2018-09-04     26651954.0     5563486.0      1472568.0             386263.0   \n",
       "2018-09-11     27904769.0     5680349.0      1472954.0             389342.0   \n",
       "\n",
       "            Asset Manager Shorts  Leveraged Funds Longs  \\\n",
       "Date                                                      \n",
       "2018-08-14             2169314.0               814872.0   \n",
       "2018-08-21             2022231.0               899539.0   \n",
       "2018-08-28             2010484.0              1045027.0   \n",
       "2018-09-04             2264793.0              1092489.0   \n",
       "2018-09-11             2226915.0              1291678.0   \n",
       "\n",
       "            Leveraged Funds Shorts  Other Reportable Longs  \\\n",
       "Date                                                         \n",
       "2018-08-14               2597353.0                 33821.0   \n",
       "2018-08-21               2479947.0                 28290.0   \n",
       "2018-08-28               2564445.0                 26090.0   \n",
       "2018-09-04               2378642.0                 27243.0   \n",
       "2018-09-11               2754837.0                 66278.0   \n",
       "\n",
       "            Other Reportable Shorts  Non Reportable Longs  \\\n",
       "Date                                                        \n",
       "2018-08-14                 260927.0              575308.0   \n",
       "2018-08-21                 215814.0              560456.0   \n",
       "2018-08-28                 277700.0              602812.0   \n",
       "2018-09-04                 265264.0              604663.0   \n",
       "2018-09-11                 309228.0              637176.0   \n",
       "\n",
       "            Non Reportable Shorts        Net   Percent  \n",
       "Date                                                    \n",
       "2018-08-14              1235337.0 -4477117.0  0.200326  \n",
       "2018-08-21              1249465.0 -4154131.0  0.235367  \n",
       "2018-08-28              1246766.0 -4092897.0  0.250374  \n",
       "2018-09-04              1292875.0 -4090916.0  0.251221  \n",
       "2018-09-11              1300889.0 -4207395.0  0.258337  "
      ]
     },
     "execution_count": 3,
     "metadata": {},
     "output_type": "execute_result"
    }
   ],
   "source": [
    "data12 = COT.format_fin(quandl.get(COT.data(COT.GE), start_date=date_fmt(years_ago(5)), end_date=date_fmt(data_date), qopts=COT.fin_cols))\n",
    "\n",
    "data12.tail()"
   ]
  },
  {
   "cell_type": "code",
   "execution_count": 4,
   "metadata": {
    "slideshow": {
     "slide_type": "subslide"
    }
   },
   "outputs": [
    {
     "data": {
      "text/plain": [
       "<matplotlib.axes._subplots.AxesSubplot at 0x7f3b26df0160>"
      ]
     },
     "execution_count": 4,
     "metadata": {},
     "output_type": "execute_result"
    },
    {
     "data": {
      "image/png": "[encoded data removed]",
      "text/plain": [
       "<matplotlib.figure.Figure at 0x7f3b26df07f0>"
      ]
     },
     "metadata": {},
     "output_type": "display_data"
    }
   ],
   "source": [
    "data13 = COT.format_com(quandl.get(COT.data(COT.CL), start_date=date_fmt(years_ago(5)), end_date=date_fmt(data_date)))\n",
    "\n",
    "data13.Percent.plot()"
   ]
  }
 ],
 "metadata": {
  "kernelspec": {
   "display_name": "Python 3.6",
   "language": "python",
   "name": "python36"
  },
  "language_info": {
   "codemirror_mode": {
    "name": "ipython",
    "version": 3
   },
   "file_extension": ".py",
   "mimetype": "text/x-python",
   "name": "python",
   "nbconvert_exporter": "python",
   "pygments_lexer": "ipython3",
   "version": "3.6.3"
  }
 },
 "nbformat": 4,
 "nbformat_minor": 2
}
