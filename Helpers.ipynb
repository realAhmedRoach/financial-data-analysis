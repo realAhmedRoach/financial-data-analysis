{
  "cells": [
    {
      "metadata": {
        "collapsed": true,
        "trusted": false
      },
      "cell_type": "code",
      "source": "# Holds information about a specific asset recommendation\nclass Recommendation:\n    BUY = 'BUY'\n    SELL = 'SELL'\n    SPREAD = 'SPREAD'\n    \n    def __init__(self, r_type, asset, analysis=''):\n        self.r_type = r_type\n        self.asset = asset\n        self.analysis = analysis",
      "execution_count": null,
      "outputs": []
    },
    {
      "metadata": {
        "trusted": false
      },
      "cell_type": "code",
      "source": "import pandas as pd\n\n# shortcuts for Quandl data codes\nclass Data:\n    CPI = 'FRED/CPIAUCSL'\n    ANFCI = 'FRED/ANFCI'\n    LEVERAGE = 'FRED/NFCINONFINLEVERAGE'\n    FF = 'FRED/FF'\n    LI = 'FRED/USSLIND'\n    RGPDI = 'FRED/GPDIC1'\n    BUSINV = 'FRED/BUSINV'\n    YLDCRV = 'FRED/T10Y2Y'\n    MONSPLY = 'FRED/M1'\n    RETAIL = 'FRED/RSXFS'\n    LOANS = 'FRED/BUSLOANS'\n    PCE = 'FRED/PCE'\n    RGDP = 'FRED/GDPC1'\n    NGDP = 'FRED/GDP'\n    PGDP = 'FRED/NGDPPOT'\n    ED = 'CME/ED'\n    ED1 = 'CHRIS/CME_ED1'\n    EY = 'MULTPL/SP500_EARNINGS_YIELD_MONTH'\n    TBILL = 'FRED/DGS3MO'\n    TED = 'FRED/TEDRATE'\n    DXY = 'CHRIS/ICE_DX1'\n    VIX = 'CHRIS/CBOE_VX1'\n    SENT = 'AAII/AAII_SENTIMENT'\n    \n    OILINV = 'FRED/A33DTI'\n    OILCAP = 'EIA/PET_MOPUEUS2_M'\n\n# CFTC COT Report shortcuts\nclass COT:\n    GE = ['132741', 'GE', 'Eurodollar']\n    ZN = ['043602', 'ZN', 'Ten-year T-Note']\n    ZF = ['044601', 'ZF', 'Five-year T-Note']\n    ZT = ['042601', 'ZT', 'Two-year T-Note']\n    ZB = ['020601', 'ZB', 'T-Bond']\n    UB = ['020604', 'UB', 'Ultra T-Bond']\n    _6S = ['092741', '6S', 'Swiss Franc']\n    _6M = ['095741', '6M', 'Mexican Peso']\n    _6E = ['099741', '6E', 'Euro FX']\n    _6B = ['096742', '6B', 'British Pound']\n    _6N = ['112741', '6N', 'New Zealand Dollar']\n    _6C = ['090741', '6C', 'Canadian Dollar']\n    _6A = ['232741', '6A', 'Australian Dollar']\n    _6J = ['097741', '6J', 'Japanese Yen']\n    NIY = ['240743', 'NIY', 'Nikkei Yen']\n    ES = ['13874C', 'ES', 'E-mini S&P']\n    YM = ['124603', 'YM', 'E-mini Dow']\n    NQ = ['209742', 'NQ', 'E-mini NASDAQ']\n    DX = ['098662', 'DX', 'Dollar Index']\n    VX = ['1170E1', 'VX', 'VIX']\n    \n    CL = ['067651', 'CL', 'Crude Oil']\n    OJ = ['040701', 'OJ', 'Orange Juice']\n    ZC = ['002602', 'ZC', 'Corn']\n    ZS = ['005602', 'ZS', 'Soybeans']\n    GC = ['088691', 'GC', 'Gold']\n    RR = ['039601', 'RR', 'Rough Rice']\n    ZW = ['001602', 'ZW', 'Wheat']\n    HO = ['022651', 'HO', 'Heating Oil']\n    RB = ['111659', 'RB', 'RBOB Gasoline']\n    CT = ['033661', 'CT', 'Cotton']\n    LBS = ['058643', 'LBS', 'Random-Length Lumber']\n    ZM = ['SN', 'ZM', 'Soybean Meal']\n    HG = ['085692', 'HG', 'Copper']\n    NG = ['023651', 'NG', 'Natural Gas']\n    LE = ['057642', 'LE', 'Live Cattle']\n    CC = ['073732', 'CC', 'Cocoa']\n    ZO = ['004603', 'ZO', 'Oats']\n    GF = ['061641', 'GF', 'Feeder Cattle']\n    SB = ['080732', 'SB', 'Sugar']\n    ZL = ['007601', 'ZL', 'Soybean Oil']\n    SI = ['084691', 'SI', 'Silver']\n    PA = ['075651', 'PA', 'Palladium']\n    PL = ['076651', 'PL', 'Platinum']\n    KC = ['083731', 'KC', 'Coffee']\n    \n    FIN = [GE, ZN, ZF, ZT, ZB, UB, _6S, _6M, _6E, _6B, _6N, _6C, _6A, _6J, NIY, ES, YM, NQ, DX, VX]\n    COM = [CL, OJ, ZC, ZS, GC, RR, ZW, HO, RB, CT, LBS, ZM, HG, NG, LE, CC, ZO, GF, SB, ZL, SI, PA, HE, PL, KC]\n    \n    \n    @staticmethod\n    def data(asset):\n        return 'CFTC/' + (asset, asset[0])[isinstance(asset, list)] + '_FO_ALL'\n    \n    fin_cols = {'columns': ['Open Interest', 'Asset Manager Longs', 'Asset Manager Shorts', 'Leveraged Funds Longs', 'Leveraged Funds Shorts', 'Other Reportable Longs', 'Other Reportable Shorts', 'Non Reportable Longs', 'Non Reportable Shorts']}\n    \n    def format_fin(data_old, last_only=False):\n        data = data_old\n        del data['Dealer Spreads']\n        del data['Leveraged Funds Spreads']\n        del data['Asset Manager Spreads']\n        del data['Other Reportable Spreads']\n        del data['Total Reportable Longs']\n        del data['Total Reportable Shorts']\n        data['Net'] = 0\n        data['Net'] += data['Asset Manager Longs'] - data['Asset Manager Shorts']\n        data['Net'] += data['Leveraged Funds Longs'] - data['Leveraged Funds Shorts']\n        data['Net'] += data['Other Reportable Longs'] - data['Other Reportable Shorts']\n        data['Net'] += data['Non Reportable Longs'] - data['Non Reportable Shorts']\n        data['Percent'] = data['Net'] / data['Open Interest']\n        lowest = data['Percent'].min()\n        difference = data['Percent'].max() - lowest\n        data['Percent'] = (data['Percent'] - lowest) / difference\n        return data if not last_only else last(data, 'Percent')\n    \n    def format_com(data_old, last_only=False):\n        data = data_old\n        del data['Swap Dealer Longs']\n        del data['Swap Dealer Shorts']\n        del data['Swap Dealer Spreads']\n        del data['Money Manager Spreads']\n        del data['Other Reportable Spreads']\n        del data['Total Reportable Longs']\n        del data['Total Reportable Shorts']\n        data['Net'] = 0\n        data['Net'] += data['Money Manager Longs'] - data['Money Manager Shorts']\n        data['Net'] += data['Other Reportable Longs'] - data['Other Reportable Shorts']\n        data['Net'] += data['Non Reportable Longs'] - data['Non Reportable Shorts']\n        data['Percent'] = data['Net'] / data['Open Interest']\n        lowest = data['Percent'].min()\n        difference = data['Percent'].max() - lowest\n        data['Percent'] = (data['Percent'] - lowest) / difference\n        return data if not last_only else last(data, 'Percent')\n    ",
      "execution_count": null,
      "outputs": []
    },
    {
      "metadata": {
        "trusted": false
      },
      "cell_type": "code",
      "source": "# date helper methods\nfrom datetime import timedelta, date\nyear = timedelta(days=365)\ndata_date = date.today()\n\ndef date_fmt(date):\n    return str(date.year) + '-' + str(date.month) + '-' + str(date.day)\n\ndef years_ago(num):\n    return data_date - (year * num)",
      "execution_count": null,
      "outputs": []
    },
    {
      "metadata": {
        "trusted": false
      },
      "cell_type": "code",
      "source": "# statistics methods\ndef mean(df):\n    return df.values.mean()\n\ndef last(df, col='Value'):\n    return df[col].iloc[-1] if len(df[col]) > 0 else 0\n\ndef std(df):\n    return df.values.std(ddof=1)",
      "execution_count": null,
      "outputs": []
    }
  ],
  "metadata": {
    "kernelspec": {
      "name": "python36",
      "display_name": "Python 3.6",
      "language": "python"
    },
    "language_info": {
      "mimetype": "text/x-python",
      "nbconvert_exporter": "python",
      "name": "python",
      "pygments_lexer": "ipython3",
      "version": "3.6.6",
      "file_extension": ".py",
      "codemirror_mode": {
        "version": 3,
        "name": "ipython"
      }
    }
  },
  "nbformat": 4,
  "nbformat_minor": 2
}