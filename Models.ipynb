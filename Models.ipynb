{
  "cells": [
    {
      "metadata": {
        "collapsed": true
      },
      "cell_type": "markdown",
      "source": "# Models\nModels will have a common superclass and three methods, one for data collection, the main algorithm, and relevant data used in that algorithm.\nThere are three types of models, macro, asset-specific, and opportunity-specific. Macro models look at the global environment, asset-specific models find opportunities within one asset class, and opportunity-specific models locate them across multiple asset classes"
    },
    {
      "metadata": {},
      "cell_type": "markdown",
      "source": "Here is the `Model` superclass:"
    },
    {
      "metadata": {
        "trusted": true
      },
      "cell_type": "code",
      "source": "from abc import ABC, abstractmethod\nclass Model(ABC):\n    def __init__(self):\n        self.get_data()\n    \n    @abstractmethod\n    # load the data into the model\n    def get_data(self):\n        pass\n    @abstractmethod\n    # run algorithm and save output\n    def analyze(self, refresh=False):\n        pass\n    @abstractmethod\n    # return some data to help understand analysis\n    def relevant_data(self):\n        pass\n    \n    ",
      "execution_count": 1,
      "outputs": []
    },
    {
      "metadata": {},
      "cell_type": "markdown",
      "source": "#### Helper Classes & Methods"
    },
    {
      "metadata": {
        "trusted": true
      },
      "cell_type": "code",
      "source": "import quandl\nquandl.ApiConfig.api_key = 'yACpi8J95VWoPd_8qYmv'\nfrom alpha_vantage.timeseries import TimeSeries\nts = TimeSeries(key='2MI58JUQIRZ6I9AA', output_format='pandas', indexing_type='date')\n\nimport pandas as pd\nimport numpy as np\nimport logging\nlogging.basicConfig(level=logging.INFO)",
      "execution_count": 2,
      "outputs": []
    },
    {
      "metadata": {
        "trusted": true
      },
      "cell_type": "code",
      "source": "# %run Helpers.ipynb\nfrom helpers import *",
      "execution_count": 3,
      "outputs": []
    },
    {
      "metadata": {
        "trusted": true
      },
      "cell_type": "code",
      "source": "# determine asset tilt at the end of analysis\nclass AssetTilt:\n    MACRO = []\n    # [developed stocks, EM stocks, IRs, developed currencies, EM currencies, energy, agriculture, precious metals, industrial metals]\n#     TILT = [[], [], [], [], [], [], [], [], []]\n    \n#     @staticmethod\n#     def get_tilt():\n#         tilt = []\n#         for i in AssetTilt.TILT:\n#             cnt = len(i)\n#             if i:\n#                 tilt.append((i.count(1) / cnt) - (i.count(0) / cnt))\n#             else:\n#                 tilt.append(0)\n        \n#         return tilt\n\n# holds list of all recommendations\nclass Recommendations:\n    RCMDS = []\n    \n    @classmethod\n    def output(cls):\n        output = []\n        for r in cls.RCMDS:\n            output.append([r.r_type, r.asset, r.analysis])\n        return output\n\nLOGS = []",
      "execution_count": 4,
      "outputs": []
    },
    {
      "metadata": {},
      "cell_type": "markdown",
      "source": "## Macro Models\nThese models assess the global macro environment and determine asset tilt and the base for further analysis. They are also used to create a beta underlay in an investment portfolio."
    },
    {
      "metadata": {
        "trusted": true
      },
      "cell_type": "code",
      "source": "class EconomicCycleModel(Model):\n    def __init__(self):\n        super().__init__()\n    \n    def get_data(self):\n        # get data from quandl\n        self.retail_chg = quandl.get(Data.RETAIL, start_date=years_ago(6), end_date=date_fmt(data_date)).pct_change(periods=12).dropna()\n        self.retail = self.retail_chg.diff(periods=12).rolling(window=12).mean().dropna()\n        self.monsply_chg = quandl.get(Data.MONSPLY, start_date=years_ago(5), end_date=date_fmt(data_date)).pct_change(periods=52).dropna()\n        self.monsply = self.monsply_chg.pct_change(periods=52).dropna()\n        self.businv_chg = quandl.get(Data.BUSINV, start_date=years_ago(5), end_date=date_fmt(data_date)).pct_change(periods=12).dropna()\n        self.businv = self.businv_chg.diff(periods=12).dropna()\n        self.loans_chg = quandl.get(Data.LOANS, start_date=years_ago(4), end_date=date_fmt(data_date)).pct_change(periods=12).dropna()\n        self.loans = self.loans_chg.diff(periods=12).dropna()\n        self.ff = quandl.get(Data.FF, start_date = years_ago(3), end_date=date_fmt(data_date)).diff(periods=52).dropna()\n        self.ff_chg = self.ff.diff(periods=6).dropna()\n        \n        self.ngdp = quandl.get(Data.NGDP, start_date=years_ago(3), end_date=date_fmt(data_date))\n        self.pgdp = quandl.get(Data.PGDP, start_date=years_ago(3), end_date=date_fmt(data_date))\n        self.gdp_gap = self.ngdp.div(self.pgdp).sub(1).dropna()\n        \n        # get last value\n        self.l_r = last(self.retail)\n        self.l_rg = last(self.retail_chg)\n        self.l_m = last(self.monsply)\n        self.l_mg = last(self.monsply_chg)\n        self.l_b = last(self.businv)\n        self.l_bg = last(self.businv_chg)\n        self.l_l = last(self.loans)\n        self.l_lg = last(self.loans_chg)\n        self.l_f = last(self.ff)\n        self.l_fg = last(self.ff_chg)\n        self.l_g = last(self.gdp_gap)\n        \n        # get means\n        self.m_r = mean(self.retail)\n        self.m_b = mean(self.businv)\n        self.m_l = mean(self.loans)\n        \n        # get standard deviations\n        self.s_r = std(self.retail)\n        self.s_b = std(self.businv)\n        self.s_l = std(self.loans)\n        \n    def analyze(self, refresh=False):\n        if refresh:\n            super().__init__()\n        \n        # early, mid, late, recession\n        cycle = np.array([0, 0, 0, 0], dtype='f')\n        num = 0\n        \n        # gdp gap\n        if self.l_g > 0:\n            LOGS.append('GDP gap positive')\n            cycle[2] += 2\n            num += 2\n        if self.gdp_gap.gt(0).sum().sum() > 0 and self.l_g < 0:\n            LOGS.append('GDP gap moved negative')\n            cycle[3] += 1\n            num += 1\n        \n        # retail sales\n        if self.l_r > (self.m_r + (self.s_r / 2)) and self.retail.lt(self.m_r - (self.s_r /2)).sum().sum() == 0:\n            LOGS.append('Retail sales above 0.5 std; haven\\'t been below -0.5 std' )\n            cycle[2] += 1\n            num += 1\n        if self.l_r < 0.02:\n            LOGS.append('Change in % retail sales change less than 2%')\n            cycle[3] += 1\n            num += 1\n        if self.l_rg < 0:\n            LOGS.append('Change in retail sales negative')\n            cycle[1] += 1\n            num += 1\n        if self.l_r < 0.25:\n            cycle[0] += 1\n            num += 1\n        if self.retail.lt(self.m_r - (self.s_r /2)).sum().sum() > 0 and self.l_r > (self.m_r + (self.s_r / 2)):\n            LOGS.append('Retail sales have been below 0.5 std; are now above 0.5 std' )\n            cycle[0] += 1\n            \n        # business inventories\n        if self.l_bg < 0:\n            LOGS.append('Change in business inventories growing')\n            cycle[1] += 1\n            num += 1\n        if self.l_b > 0 and self.l_b > (self.m_b + (self.s_b / 2)):\n            LOGS.append('Change in business inventory growth greater than 0.5 std')\n            cycle[2] += 1\n            num += 1\n        if self.businv.lt(self.m_b - (self.s_b /2)).sum().sum() > 0 and self.l_b > (self.m_b + (self.s_b / 2)):\n            LOGS.append('Change in business inventory growth has been negative and is greater than 0.5 std')\n            cycle[0] += 1\n            \n        # interest rates\n        if self.l_f > 0.15:\n            LOGS.append('1-year growth of FF rate greater than 15 bips')\n            cycle[1] += 1\n            num += 1\n        if self.l_f < 0.5:\n            LOGS.append('1-year growth of FF rate less than 50 bips')\n            cycle[0] += 1\n            num += 1\n        if self.l_f < 0 and self.l_fg < 0:\n            LOGS.append('FF rate declining')\n            cycle[3] += 1\n        \n        # business loans\n        if self.l_lg < 0:\n            LOGS.append('Change in business loans down')\n            cycle[1] += 1\n            num += 1\n        if self.l_l > 0 and self.l_l > (self.m_l + (self.s_l / 2)):\n            LOGS.append('Business loans positive and above 0.5 std')\n            cycle[2] += 1\n            num += 1\n            \n        # money supply\n        if self.monsply_chg.lt(0).sum().sum() > 0:\n            LOGS.append('Money supply decreasing')\n            cycle[2] += 1\n            num += 1\n            \n        cycle = cycle / num\n        \n        \n        cycle_name = {\n            0: \"Early-cycle\",\n            1: \"Mid-cycle\",\n            2: \"Late-cycle\",\n            3: \"Recession\",\n        }\n        cur_cycle = cycle.argmax(axis=0)\n        AssetTilt.MACRO.append(cycle_name.get(cur_cycle))\n            \n        return cycle\n        \n    def relevant_data(self):\n        return {\n            \"retail_sales\": self.retail_chg,\n            \"money_supply\": self.monsply_chg,\n            \"business_inventories\": self.businv_chg,\n            \"business_loans\": self.loans_chg,\n            \"fed_funds\": self.ff\n        }\n    \nclass LiquidityModel(Model):\n    def __init__(self):\n        super().__init__()\n\n    def get_data(self):\n        self.anfci = quandl.get(Data.ANFCI, start_date=years_ago(3), end_date=date_fmt(data_date))\n        self.leverage = quandl.get(Data.LEVERAGE, start_date=years_ago(3), end_date=date_fmt(data_date))\n        self.ted = quandl.get(Data.TED, collapse='weekly', start_date=years_ago(3), end_date=date_fmt(data_date))\n        self.yldcrv = quandl.get(Data.YLDCRV, start_date=years_ago(3), end_date=date_fmt(data_date))\n        self.lo = quandl.get(Data.ED1, start_date=years_ago(3), end_date=date_fmt(data_date))\n        \n        self.l_a = last(self.anfci)\n        self.c_a = last(self.anfci.pct_change(periods=52))\n        \n        self.l_l = last(self.leverage)\n        self.c_l = last(self.leverage.pct_change(periods=52))\n        \n        self.l_t = last(self.ted)\n        self.c_t = last(self.ted.pct_change(periods=52))\n        \n        self.l_y = last(self.yldcrv)\n\n    def analyze(self, refresh=False):\n        # strengthening, weakening\n        self.change = np.array([0, 0], dtype='f')\n        # strong, weak\n        self.position = np.array([0, 0], dtype='f')\n        \n        if self.l_a > 0:\n            self.position[1] += 1\n        else:\n            self.position[0] += 1\n        if self.c_a > 0:\n            self.change[1] += 1\n        else:\n            self.change[0] += 1\n        \n        if self.l_l > 0:\n            self.position[1] += 1\n        else:\n            self.position[0] += 1\n        if self.c_l > 0:\n            self.change[1] += 1\n        else:\n            self.change[0] += 1   \n            \n        if self.l_t > 0.6:\n            self.position[1] += 1\n        else:\n            self.position[0] += 1\n        if self.c_t > 0:\n            self.change[1] += 1\n        else:\n            self.change[0] += 1\n\n        if self.l_y < 0:\n            self.position[0] += 1\n        else:\n            self.position[1] += 1\n            \n        total_change = sum(self.change)\n        total_position = sum(self.position)\n        self.position /= total_position\n        self.change /= total_change\n        strong = self.position[0] > 0.5\n        strengthening = self.change[0] > 0.5\n        text = ''\n        \n        if strong:\n            text += 'Strong '\n        else:\n            text += 'Weak '\n            \n        if strong == strengthening:\n            text += 'and '\n        else:\n            text += 'but '\n            \n        if strengthening:\n            text += 'strengthening '\n        else:\n            text += 'weakening '\n            \n        text += 'liquidity'\n        \n        AssetTilt.MACRO.append(text)\n        \n        return [self.position, self.change]\n\n    def relevant_data(self):\n        return {\n            \"anfci\": self.anfci,\n            \"leverage\": self.leverage,\n            \"ted\": self.ted,\n            \"yldcrv\": self.yldcrv\n        }\n    \nclass CorePeripheryModel(Model):\n    def __init__(self):\n        super().__init__()\n\n    def get_data(self):\n        self.dxy_orig = quandl.get(Data.DXY + \".4\", start_date=years_ago(16), end_date=date_fmt(data_date)).rolling(window=100).mean().pct_change(periods=100)\n        self.dxy_c_orig = self.dxy_orig.diff(periods=100)\n        self.dxy = last(self.dxy_orig, col='Settle')\n        self.dxy_c = last(self.dxy_c_orig, col='Settle')\n        \n    def analyze(self, refresh=False):\n        if (self.dxy > 0 and self.dxy_c > 0):\n            AssetTilt.MACRO.append('Money flowing to core')\n            Recommendations.RCMDS.append(Recommendation(Recommendation.SPREAD, 'SPY/EEM', 'Buy US against EM, rush to safety'))\n        elif (self.dxy < 0 and self.dxy_c < 0):\n            AssetTilt.MACRO.append('Money flowing to periphery')\n            Recommendations.RCMDS.append(Recommendation(Recommendation.SPREAD, 'EEM/SPY', 'Buy EM against US, follow trend'))\n\n    def relevant_data(self):\n        return {\n            \"dxy\": self.dxy_orig,\n            \"dxy_chg\": self.dxy_c_orig\n        }",
      "execution_count": 5,
      "outputs": []
    },
    {
      "metadata": {},
      "cell_type": "markdown",
      "source": "## Asset-Specific Models\nThese models look at specific assets and determine whether their is an oppurtunity available. They may get some information from the macro models above"
    },
    {
      "metadata": {
        "trusted": true
      },
      "cell_type": "code",
      "source": "class CapitalCycleModel(Model):\n    def __init__(self):\n        super().__init__()\n\n    def get_data(self):\n        self.inv = quandl.get(Data.OILINV, start_date=years_ago(15), end_date=date_fmt(data_date)).pct_change(periods=12).diff(periods=12)\n        self.price = quandl.get('OPEC/ORB', start_date=years_ago(15), end_date=date_fmt(data_date))\n        self.cap = quandl.get(Data.OILCAP, start_date=years_ago(15), end_date=date_fmt(data_date)).rolling(window=12).mean()\n        \n        self.l_i = last(self.inv)\n        self.l_c = last(self.cap)\n        \n    def analyze(self, refresh=False):\n        #TODO: Add recommendation\n        if self.l_c > 90:\n            LOGS.append('Oil capacity utilization high')\n        if self.l_i > 0.15:\n            LOGS.append('Oil inventories increasing over 15%')\n        if self.l_c < 85:\n            LOGS.append('Oil capacity utilization low')\n        if self.l_i < 0:\n            LOGS.append('Oil inventories decreasing')\n            \n    \n    def relevant_data(self):\n        return {\n            \"cap\": self.cap,\n            \"inventories\": self.inv\n        }\n    \nclass CurrencyModel(Model):\n    def __init__(self):\n        super().__init__()\n\n    def get_data(self):\n        pass\n    def analyze(self, refresh=False):\n        pass\n    def relevant_data(self):\n        pass\n    \nclass RiskPremiumModel(Model):\n    def __init__(self):\n        super().__init__()\n\n    def get_data(self):\n        self.rp = quandl.get([Data.EY, Data.TBILL], start_date=years_ago(3), end_date=date_fmt(data_date))\n        self.rp = (self.rp[self.rp.columns[0]] - self.rp[self.rp.columns[1]]).diff(periods=12).dropna()\n        self.l_rp = self.rp.iloc[-1]\n\n    def analyze(self, refresh=False):\n        if self.l_rp > 1.5:\n            LOGS.append('Earnings yields increasing against T-Bill rates')\n        elif self.l_rp < -1.5:\n            LOGS.append('Earnings yields decreasing against T-Bill rates')\n\n    def relevant_data(self):\n        return {\n            \"risk_premium\": self.rp\n        }",
      "execution_count": 6,
      "outputs": []
    },
    {
      "metadata": {},
      "cell_type": "markdown",
      "source": "## Opportunity-Specific Models\nThese models locate opportunities based on rules that work across multiple asset classes."
    },
    {
      "metadata": {
        "trusted": true
      },
      "cell_type": "code",
      "source": "class ReflexivityModel(Model):\n    def __init__(self):\n        super().__init__()\n\n    def get_data(self):\n        self.vix = quandl.get(Data.VIX + \".5\", start_date=years_ago(5), end_date=date_fmt(data_date))\n        self.vix_ma_all = self.vix.rolling(window=100).mean() - self.vix.rolling(window=50).mean()\n        self.vix_ma = last(self.vix_ma_all, col='Settle')\n        \n        self.sent_all = quandl.get(Data.SENT + \".6\", start_date=years_ago(5), end_date=date_fmt(data_date)).rolling(window=4).mean()\n        self.sent = last(self.sent_all, col='Bull-Bear Spread')\n\n    def analyze(self, refresh=False):\n        if (self.vix_ma > -1 and self.vix_ma < 1 and last(self.vix, col='Settle') < 14):\n            Recommendations.RCMDS.append(Recommendation(Recommendation.SELL, 'SPY', 'Extreme low volatility'))\n        \n        if (self.sent > 0.25):\n            LOGS.append('Bull-Bear spread greater than 25%')\n            Recommendations.RCMDS.append(Recommendation(Recommendation.SELL, 'SPY', 'Overly bullish sentiment'))\n        elif (self.sent < -0.15):\n            LOGS.append('Bull-Bear spread less than -15%')\n            Recommendations.RCMDS.append(Recommendation(Recommendation.BUY, 'SPY', 'Overly bearish sentiment'))\n\n    def relevant_data(self):\n        return {\n            \"vix_ma\": self.vix_ma_all,\n            \"sentiment\": self.sent_all\n        }\n    \nclass BondMarketModel(Model):\n    def __init__(self):\n        super().__init__()\n\n    def get_data(self):\n        lqd, _ = ts.get_daily_adjusted(symbol='LQD', outputsize='full')\n        ief, _ = ts.get_daily_adjusted(symbol='IEF', outputsize='full')\n        spy_u, _ = ts.get_daily_adjusted(symbol='SPY', outputsize='full')\n\n        self.data = lqd['4. close'] / ief['4. close']\n        self.data = self.data.tail(300).pct_change(periods=90).dropna()\n\n        self.spy = spy_u['4. close']\n        self.spy = self.spy.tail(300).pct_change(periods=90).dropna()\n        \n        self.spy_mean = self.spy.values.mean()\n        self.spy_std = self.spy.values.std(ddof=1)\n        \n        self.data_mean = self.data.values.mean()\n        self.data_std = self.data.values.std(ddof=1)\n        \n        self.s = self.spy.iloc[-1]\n        self.l = self.data.iloc[-1]\n\n    def analyze(self, refresh=False):\n        spy_quadrant = 0\n        if (self.s < self.spy_mean - self.spy_std):\n            spy_quadrant = 1\n        elif (self.s < self.spy_mean - (self.spy_std / 2)):\n            spy_quadrant = 2\n        elif (self.s < self.spy_mean):\n            spy_quadrant = 3\n        elif (self.s < self.spy_mean + (self.spy_std / 2)):\n            spy_quadrant = 4\n        elif (self.s < self.spy_mean + self.spy_std):\n            spy_quadrant = 5\n        else:\n            spy_quadrant = 6\n            \n        data_quadrant = 0\n        if (self.l < self.data_mean - self.data_std):\n            data_quadrant = 1\n        elif (self.l < self.data_mean - (self.data_std / 2)):\n            data_quadrant = 2\n        elif (self.l < self.data_mean):\n            data_quadrant = 3\n        elif (self.l < self.data_mean + (self.data_std / 2)):\n            data_quadrant = 4\n        elif (self.l < self.data_mean + self.data_std):\n            data_quadrant = 5\n        else:\n            data_quadrant = 6\n        \n        if (spy_quadrant > data_quadrant + 1):\n            LOGS.append('SPY above LQD/IEF')\n            Recommendations.RCMDS.append(Recommendation(Recommendation.SELL, 'SPY', 'SPY above LQD/IEF'))\n        elif (spy_quadrant < data_quadrant - 1):\n            LOGS.append('SPY below LQD/IEF')\n            Recommendations.RCMDS.append(Recommendation(Recommendation.BUY, 'SPY', 'SPY below LQD/IEF'))\n            \n    \n    def relevant_data(self):\n        return {\n            \"spy_v_lqd/ief\": pd.concat([self.data, self.spy], axis=1)\n        }\n    \nclass FalseConsensusModel(Model):\n    def __init__(self):\n        super().__init__()\n\n    def get_data(self):\n        self.data_fin = [] # financials\n        self.data_com = [] # commodities\n        for fin in COT.FIN:\n            self.data_fin.append(COT.format_fin(quandl.get(COT.data(fin), start_date=years_ago(5), end_date=date_fmt(data_date)), True))\n            \n        for com in COT.COM:\n            self.data_com.append(COT.format_com(quandl.get(COT.data(com), start_date=years_ago(5), end_date=date_fmt(data_date)), True))\n\n    def analyze(self, refresh=False):\n        self.extreme_fin = []\n        self.extreme_com = []\n        \n        for n in range(len(self.data_fin)):\n            #TODO: 3 currencies -> DXY\n            if (self.data_fin[n] > .9):\n                self.extreme_fin.append(COT.FIN[n][2])\n                Recommendations.RCMDS.append(Recommendation(Recommendation.SELL, COT.FIN[n][2], 'Crowded long'))\n            elif (self.data_fin[n] <.1):\n                self.extreme_fin.append(COT.FIN[n][2])\n                Recommendations.RCMDS.append(Recommendation(Recommendation.BUY, COT.FIN[n][2], 'Crowded short'))\n                \n        for n in range(len(self.data_com)):\n            if (self.data_com[n] > .9):\n                self.extreme_com.append(COT.COM[n][2])\n                Recommendations.RCMDS.append(Recommendation(Recommendation.SELL, COT.COM[n][2], 'Crowded long'))\n            elif (self.data_com[n] <.1):\n                self.extreme_com.append(COT.COM[n][2])\n                Recommendations.RCMDS.append(Recommendation(Recommendation.BUY, COT.COM[n][2], 'Crowded short'))\n        \n    def relevant_data(self):\n        pass",
      "execution_count": 7,
      "outputs": []
    },
    {
      "metadata": {},
      "cell_type": "markdown",
      "source": "#### TODO\n- Recession + strengthening liquidity: cash pump -> buy\n- BUY/SELL SPY + ES -> strong signal\n- BUY/SELL 3 currencies -> strong signal (DXY)\n- Oil cap, inv dec -> sell/buy future\n- Weakening liquidity -> cash\n- Commodity positioning + seasonality -> signal"
    },
    {
      "metadata": {
        "trusted": true
      },
      "cell_type": "code",
      "source": "models = {\n    'economic_cycle': EconomicCycleModel(),\n    'liquidity': LiquidityModel(),\n    'core_periphery': CorePeripheryModel(),\n    'capital_cycle': CapitalCycleModel(),\n#     'currency_cycle': CurrencyModel(),\n#     'risk_premium': RiskPremiumModel(),\n    'reflexivity': ReflexivityModel(),\n    'bond_market': BondMarketModel(),\n    'false_consensus': FalseConsensusModel()\n}\n\ndef analyze_all():\n    LOGS.clear()\n    Recommendations.RCMDS.clear()\n    AssetTilt.MACRO.clear()\n    LOGS.append(str(data_date))\n    for key, model in models.items():\n        model.analyze()",
      "execution_count": null,
      "outputs": []
    }
  ],
  "metadata": {
    "kernelspec": {
      "name": "python36",
      "display_name": "Python 3.6",
      "language": "python"
    },
    "language_info": {
      "mimetype": "text/x-python",
      "nbconvert_exporter": "python",
      "name": "python",
      "pygments_lexer": "ipython3",
      "version": "3.6.6",
      "file_extension": ".py",
      "codemirror_mode": {
        "version": 3,
        "name": "ipython"
      }
    }
  },
  "nbformat": 4,
  "nbformat_minor": 2
}